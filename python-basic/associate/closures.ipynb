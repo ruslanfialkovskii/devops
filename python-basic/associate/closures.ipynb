{
 "cells": [
  {
   "cell_type": "code",
   "execution_count": 2,
   "metadata": {},
   "outputs": [
    {
     "name": "stdout",
     "output_type": "stream",
     "text": [
      "Hello-Bob\n",
      "Goodby-Jon\n"
     ]
    }
   ],
   "source": [
    "def greeter(prefix):\n",
    "    def greet(name):\n",
    "        print(f\"{prefix}-{name}\")\n",
    "    return greet\n",
    "\n",
    "hello = greeter(\"Hello\")\n",
    "goodby = greeter(\"Goodby\")\n",
    "\n",
    "hello(\"Bob\")\n",
    "goodby(\"Jon\")"
   ]
  },
  {
   "cell_type": "code",
   "execution_count": 5,
   "metadata": {},
   "outputs": [
    {
     "name": "stdout",
     "output_type": "stream",
     "text": [
      "Hello, world!\n"
     ]
    }
   ],
   "source": [
    "def outer_function():\n",
    "  greeting = \"Hello, world!\"\n",
    "\n",
    "  def inner_function():\n",
    "    print(greeting)\n",
    "\n",
    "  return inner_function\n",
    "\n",
    "greeting_function = outer_function()\n",
    "greeting_function()\n"
   ]
  }
 ],
 "metadata": {
  "kernelspec": {
   "display_name": "Python 3",
   "language": "python",
   "name": "python3"
  },
  "language_info": {
   "codemirror_mode": {
    "name": "ipython",
    "version": 3
   },
   "file_extension": ".py",
   "mimetype": "text/x-python",
   "name": "python",
   "nbconvert_exporter": "python",
   "pygments_lexer": "ipython3",
   "version": "3.10.0"
  }
 },
 "nbformat": 4,
 "nbformat_minor": 2
}
