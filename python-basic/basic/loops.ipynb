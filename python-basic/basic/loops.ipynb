{
 "cells": [
  {
   "cell_type": "code",
   "execution_count": 2,
   "metadata": {},
   "outputs": [
    {
     "name": "stdout",
     "output_type": "stream",
     "text": [
      "1\n",
      "2\n",
      "3\n",
      "4\n",
      "5\n",
      "6\n",
      "7\n",
      "8\n",
      "9\n",
      "10\n"
     ]
    }
   ],
   "source": [
    "count = 0\n",
    "while count < 10:\n",
    "    count += 1\n",
    "    print(count)"
   ]
  },
  {
   "cell_type": "code",
   "execution_count": 3,
   "metadata": {},
   "outputs": [
    {
     "name": "stdout",
     "output_type": "stream",
     "text": [
      "blue\n",
      "green\n",
      "black\n"
     ]
    }
   ],
   "source": [
    "colors = ['blue','green','black']\n",
    "for color in colors:\n",
    "    print(color)"
   ]
  },
  {
   "cell_type": "code",
   "execution_count": 7,
   "metadata": {},
   "outputs": [
    {
     "name": "stdout",
     "output_type": "stream",
     "text": [
      "key1 1\n",
      "key2 2\n",
      "key3 3\n"
     ]
    },
    {
     "data": {
      "text/plain": [
       "dict_items([('key1', 1), ('key2', 2), ('key3', 3)])"
      ]
     },
     "execution_count": 7,
     "metadata": {},
     "output_type": "execute_result"
    }
   ],
   "source": [
    "#unpack dict\n",
    "my_dict = {'key1':1,'key2':2,'key3':3}\n",
    "for key, value in my_dict.items():\n",
    "    print(key, value)\n"
   ]
  },
  {
   "cell_type": "code",
   "execution_count": 8,
   "metadata": {},
   "outputs": [
    {
     "name": "stdout",
     "output_type": "stream",
     "text": [
      "0\n",
      "4\n",
      "8\n",
      "12\n",
      "16\n",
      "20\n",
      "24\n"
     ]
    }
   ],
   "source": [
    "#nested loops\n",
    "count = 0 \n",
    "while count < 25:\n",
    "    if count % 4 == 0:\n",
    "        print(count)\n",
    "    count += 1\n",
    "    "
   ]
  },
  {
   "cell_type": "code",
   "execution_count": 12,
   "metadata": {},
   "outputs": [
    {
     "name": "stdout",
     "output_type": "stream",
     "text": [
      "Count odd 1\n",
      "Count odd 3\n",
      "Count odd 5\n",
      "Count odd 7\n",
      "Count odd 9\n"
     ]
    }
   ],
   "source": [
    "#control loop\n",
    "count = 0\n",
    "while count < 10:\n",
    "    if count % 2 == 0:\n",
    "        count += 1\n",
    "        continue\n",
    "    print(f'Count odd {count}')\n",
    "    count += 1"
   ]
  },
  {
   "cell_type": "code",
   "execution_count": 13,
   "metadata": {},
   "outputs": [],
   "source": [
    "#control loop\n",
    "count = 0\n",
    "while count < 10:\n",
    "    if count % 2 == 0:\n",
    "        count += 1\n",
    "        break\n",
    "    count += 1\n",
    "    print(f'Count odd {count}')\n"
   ]
  },
  {
   "cell_type": "code",
   "execution_count": 2,
   "metadata": {},
   "outputs": [
    {
     "name": "stdout",
     "output_type": "stream",
     "text": [
      "green not found\n"
     ]
    }
   ],
   "source": [
    "colors = ['red','orange',]\n",
    "for color in colors:\n",
    "    if color == 'green':\n",
    "        print('green')\n",
    "        break\n",
    "else:\n",
    "    print('green not found')\n"
   ]
  },
  {
   "cell_type": "code",
   "execution_count": 8,
   "metadata": {},
   "outputs": [
    {
     "name": "stdout",
     "output_type": "stream",
     "text": [
      "loop\n",
      "loop\n",
      "loop\n",
      "loop\n"
     ]
    }
   ],
   "source": [
    "list(range(10))\n",
    "# can work with range like as slices\n",
    "list(range(1,14,2))\n",
    "#can use with loop\n",
    "for _ in range(4):\n",
    "    print('loop')"
   ]
  },
  {
   "cell_type": "code",
   "execution_count": 16,
   "metadata": {},
   "outputs": [
    {
     "data": {
      "text/plain": [
       "['red', 'orange']"
      ]
     },
     "execution_count": 16,
     "metadata": {},
     "output_type": "execute_result"
    }
   ],
   "source": [
    "# list comprehension\n",
    "colors = ['red','green','black']\n",
    "upper_colors = []\n",
    "for color in colors:\n",
    "    upper_colors.append(color.upper())\n",
    "upper_colors\n",
    "\n",
    "upper_colors = [color.upper() for color in colors]\n",
    "upper_colors\n",
    "\n",
    "standat_colors = ['red','green','black','orange']\n",
    "\n",
    "warm_color = [color for color in standat_colors if color in ['red','orange'] ]\n",
    "warm_color"
   ]
  },
  {
   "cell_type": "code",
   "execution_count": 5,
   "metadata": {},
   "outputs": [
    {
     "name": "stdout",
     "output_type": "stream",
     "text": [
      "1\n",
      "2\n",
      "Fizz\n",
      "4\n",
      "Buzz\n",
      "Fizz\n",
      "7\n",
      "8\n",
      "Fizz\n",
      "Buzz\n"
     ]
    }
   ],
   "source": [
    "number = int(input('Enter number:'))\n",
    "for item in range(1,number + 1):\n",
    "    if item % 3 == 0 and item % 5 == 0:\n",
    "        print('FizzBuzz')\n",
    "    elif item % 3 == 0:\n",
    "        print('Fizz')\n",
    "    elif item % 5 == 0:\n",
    "        print('Buzz')\n",
    "    else:\n",
    "        print(item)"
   ]
  }
 ],
 "metadata": {
  "kernelspec": {
   "display_name": "Python 3",
   "language": "python",
   "name": "python3"
  },
  "language_info": {
   "codemirror_mode": {
    "name": "ipython",
    "version": 3
   },
   "file_extension": ".py",
   "mimetype": "text/x-python",
   "name": "python",
   "nbconvert_exporter": "python",
   "pygments_lexer": "ipython3",
   "version": "3.10.0"
  }
 },
 "nbformat": 4,
 "nbformat_minor": 2
}
