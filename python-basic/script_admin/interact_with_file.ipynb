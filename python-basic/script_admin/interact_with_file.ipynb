{
 "cells": [
  {
   "cell_type": "code",
   "execution_count": 19,
   "metadata": {},
   "outputs": [
    {
     "name": "stdout",
     "output_type": "stream",
     "text": [
      "some\n",
      "thing\n",
      "example\n",
      "text\n",
      "here\n",
      "hing\n",
      "example\n",
      "text\n",
      "here\n"
     ]
    }
   ],
   "source": [
    "read_file = open(\"file.txt\")\n",
    "\n",
    "print(read_file.read())\n",
    "\n",
    "read_file.seek(6)\n",
    "\n",
    "print(read_file.read())\n",
    "read_file.close()"
   ]
  },
  {
   "cell_type": "code",
   "execution_count": 23,
   "metadata": {},
   "outputs": [
    {
     "name": "stdout",
     "output_type": "stream",
     "text": [
      "some\n",
      "thing\n",
      "example\n",
      "text\n",
      "here"
     ]
    }
   ],
   "source": [
    "read_file = open(\"file.txt\")\n",
    "for line in read_file:\n",
    "    print(line, end=\"\")\n",
    "\n",
    "read_file.close()"
   ]
  },
  {
   "cell_type": "code",
   "execution_count": 29,
   "metadata": {},
   "outputs": [
    {
     "data": {
      "text/plain": [
       "'some\\nthing\\nexample\\ntext\\nhere'"
      ]
     },
     "execution_count": 29,
     "metadata": {},
     "output_type": "execute_result"
    }
   ],
   "source": [
    "read_file = open(\"file.txt\")\n",
    "new_file = open(\"new_file.txt\", \"w\")\n",
    "new_file.write(read_file.read())\n",
    "new_file.close()\n",
    "new_file = open(\"new_file.txt\", \"r\")\n",
    "new_file.read()"
   ]
  },
  {
   "cell_type": "code",
   "execution_count": 31,
   "metadata": {},
   "outputs": [
    {
     "data": {
      "text/plain": [
       "'some\\nthing\\nexample\\ntext\\nhereNewline\\nNewline\\n'"
      ]
     },
     "execution_count": 31,
     "metadata": {},
     "output_type": "execute_result"
    }
   ],
   "source": [
    "with open(\"new_file.txt\", \"a\") as file:\n",
    "    file.write(\"Newline\\n\")\n",
    "\n",
    "file = open(\"new_file.txt\", \"r+\")\n",
    "file.read()\n",
    "file.close()"
   ]
  }
 ],
 "metadata": {
  "kernelspec": {
   "display_name": "Python 3",
   "language": "python",
   "name": "python3"
  },
  "language_info": {
   "codemirror_mode": {
    "name": "ipython",
    "version": 3
   },
   "file_extension": ".py",
   "mimetype": "text/x-python",
   "name": "python",
   "nbconvert_exporter": "python",
   "pygments_lexer": "ipython3",
   "version": "3.10.0"
  }
 },
 "nbformat": 4,
 "nbformat_minor": 2
}
