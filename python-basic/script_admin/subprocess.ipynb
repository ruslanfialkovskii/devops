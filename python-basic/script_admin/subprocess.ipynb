{
 "cells": [
  {
   "cell_type": "code",
   "execution_count": 3,
   "metadata": {},
   "outputs": [
    {
     "name": "stdout",
     "output_type": "stream",
     "text": [
      "total 64\n",
      "drwxr-xr-x  3 rfialkovskii  staff    96 Dec 16 12:45 \u001b[34m__pycache__\u001b[m\u001b[m\n",
      "-rwxr-xr-x  1 rfialkovskii  staff   741 Dec 16 11:29 \u001b[31mcli.py\u001b[m\u001b[m\n",
      "-rwxr-xr-x  1 rfialkovskii  staff   785 Dec 16 12:39 \u001b[31merrors.py\u001b[m\u001b[m\n",
      "-rw-r--r--  1 rfialkovskii  staff    28 Dec 15 09:59 file.txt\n",
      "-rw-r--r--  1 rfialkovskii  staff  2274 Dec 15 09:32 functions_in_scripts.ipynb\n",
      "-rw-r--r--  1 rfialkovskii  staff  2493 Dec 15 17:06 interact_with_file.ipynb\n",
      "-rw-r--r--  1 rfialkovskii  staff    44 Dec 15 17:05 new_file.txt\n",
      "-rw-r--r--  1 rfialkovskii  staff     0 Dec 16 12:10 repl.ipynb\n",
      "-rw-r--r--  1 rfialkovskii  staff  1747 Dec 16 12:53 subprocess.ipynb\n",
      "-rw-r--r--  1 rfialkovskii  staff  1176 Dec 15 11:04 work_with_env.ipynb\n"
     ]
    },
    {
     "data": {
      "text/plain": [
       "['ls', '-l']"
      ]
     },
     "execution_count": 3,
     "metadata": {},
     "output_type": "execute_result"
    }
   ],
   "source": [
    "#https://docs.python.org/3/library/subprocess.html?highlight=subprocess#module-subprocess\n",
    "\n",
    "import subprocess\n",
    "\n",
    "proc = subprocess.run([\"ls\", \"-l\"])\n",
    "proc.args"
   ]
  }
 ],
 "metadata": {
  "kernelspec": {
   "display_name": "Python 3",
   "language": "python",
   "name": "python3"
  },
  "language_info": {
   "codemirror_mode": {
    "name": "ipython",
    "version": 3
   },
   "file_extension": ".py",
   "mimetype": "text/x-python",
   "name": "python",
   "nbconvert_exporter": "python",
   "pygments_lexer": "ipython3",
   "version": "3.10.0"
  }
 },
 "nbformat": 4,
 "nbformat_minor": 2
}
